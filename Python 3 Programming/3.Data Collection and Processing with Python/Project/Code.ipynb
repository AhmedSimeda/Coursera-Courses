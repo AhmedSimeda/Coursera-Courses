{
 "cells": [
  {
   "cell_type": "code",
   "execution_count": null,
   "metadata": {},
   "outputs": [],
   "source": [
    "import requests_with_caching\n",
    "import json\n",
    "\n",
    "def get_movies_from_tastedive(name):\n",
    "    base_url = \"https://tastedive.com/api/similar\"\n",
    "    params   = {}\n",
    "    params['q'] = name\n",
    "    params['type'] = \"movies\"\n",
    "    params['limit'] = 5\n",
    "    result = requests_with_caching.get(base_url,params=params)\n",
    "    results = result.json()\n",
    "    return results\n",
    "\n",
    "def extract_movie_titles(results):\n",
    "    return [d['Name'] for d in results['Similar']['Results']]\n",
    "\n",
    "def get_movie_data(movie_title):\n",
    "    base_url = \"http://www.omdbapi.com/\"\n",
    "    params   = {}\n",
    "    params['t'] = movie_title\n",
    "    params['r'] = 'json'\n",
    "    result = requests_with_caching.get(base_url,params=params)\n",
    "    results = result.json()\n",
    "    return results\n",
    "\n",
    "def get_movie_rating(results):\n",
    "    ratings = results['Ratings']\n",
    "    for d in ratings:\n",
    "        if d['Source'] == 'Rotten Tomatoes':\n",
    "            return int(d['Value'].replace('%',''))\n",
    "    return 0\n",
    "\n",
    "def get_sorted_recommendations(movie_titles):\n",
    "    sorted_recommendations = []\n",
    "    for title in movie_titles:\n",
    "        related_titles = extract_movie_titles(get_movies_from_tastedive(title))\n",
    "        sorted_recommendations += related_titles\n",
    "    sorted_recommendations = sorted(sorted_recommendations, reverse=True, key=lambda x:(get_movie_rating(get_movie_data(x)),x[0]))\n",
    "    \n",
    "    return sorted_recommendations\n",
    "\n",
    "# some invocations that we use in the automated tests; uncomment these if you are getting errors and want better error messages\n",
    "get_sorted_recommendations([\"Bridesmaids\", \"Sherlock Holmes\"])\n",
    "\n"
   ]
  }
 ],
 "metadata": {
  "kernelspec": {
   "display_name": "Python 3",
   "language": "python",
   "name": "python3"
  },
  "language_info": {
   "codemirror_mode": {
    "name": "ipython",
    "version": 3
   },
   "file_extension": ".py",
   "mimetype": "text/x-python",
   "name": "python",
   "nbconvert_exporter": "python",
   "pygments_lexer": "ipython3",
   "version": "3.8.3"
  }
 },
 "nbformat": 4,
 "nbformat_minor": 4
}
